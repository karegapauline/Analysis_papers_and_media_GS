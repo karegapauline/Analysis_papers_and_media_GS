{
  "nbformat": 4,
  "nbformat_minor": 0,
  "metadata": {
    "colab": {
      "provenance": [],
      "authorship_tag": "ABX9TyMgW6n2ucAID1uswbeqxhx9",
      "include_colab_link": true
    },
    "kernelspec": {
      "name": "python3",
      "display_name": "Python 3"
    },
    "language_info": {
      "name": "python"
    }
  },
  "cells": [
    {
      "cell_type": "markdown",
      "metadata": {
        "id": "view-in-github",
        "colab_type": "text"
      },
      "source": [
        "<a href=\"https://colab.research.google.com/github/karegapauline/Analysis_papers_and_media_GS/blob/main/metaanalysis_papers_alone.ipynb\" target=\"_parent\"><img src=\"https://colab.research.google.com/assets/colab-badge.svg\" alt=\"Open In Colab\"/></a>"
      ]
    },
    {
      "cell_type": "code",
      "source": [
        "pip install biopython"
      ],
      "metadata": {
        "colab": {
          "base_uri": "https://localhost:8080/"
        },
        "id": "NiHhQ74i79Hj",
        "outputId": "ea498086-965f-44d8-fc52-f7d711ece930"
      },
      "execution_count": null,
      "outputs": [
        {
          "output_type": "stream",
          "name": "stdout",
          "text": [
            "Collecting biopython\n",
            "  Downloading biopython-1.85-cp312-cp312-manylinux_2_17_x86_64.manylinux2014_x86_64.whl.metadata (13 kB)\n",
            "Requirement already satisfied: tqdm in /usr/local/lib/python3.12/dist-packages (4.67.1)\n",
            "Requirement already satisfied: pandas in /usr/local/lib/python3.12/dist-packages (2.2.2)\n",
            "Requirement already satisfied: numpy in /usr/local/lib/python3.12/dist-packages (from biopython) (2.0.2)\n",
            "Requirement already satisfied: python-dateutil>=2.8.2 in /usr/local/lib/python3.12/dist-packages (from pandas) (2.9.0.post0)\n",
            "Requirement already satisfied: pytz>=2020.1 in /usr/local/lib/python3.12/dist-packages (from pandas) (2025.2)\n",
            "Requirement already satisfied: tzdata>=2022.7 in /usr/local/lib/python3.12/dist-packages (from pandas) (2025.2)\n",
            "Requirement already satisfied: six>=1.5 in /usr/local/lib/python3.12/dist-packages (from python-dateutil>=2.8.2->pandas) (1.17.0)\n",
            "Downloading biopython-1.85-cp312-cp312-manylinux_2_17_x86_64.manylinux2014_x86_64.whl (3.3 MB)\n",
            "\u001b[2K   \u001b[90m━━━━━━━━━━━━━━━━━━━━━━━━━━━━━━━━━━━━━━━━\u001b[0m \u001b[32m3.3/3.3 MB\u001b[0m \u001b[31m30.1 MB/s\u001b[0m eta \u001b[36m0:00:00\u001b[0m\n",
            "\u001b[?25hInstalling collected packages: biopython\n",
            "Successfully installed biopython-1.85\n"
          ]
        }
      ]
    },
    {
      "cell_type": "code",
      "source": [
        "#pip install tqdm"
      ],
      "metadata": {
        "id": "1T6YAwLS8Hct"
      },
      "execution_count": null,
      "outputs": []
    },
    {
      "cell_type": "code",
      "execution_count": null,
      "metadata": {
        "colab": {
          "base_uri": "https://localhost:8080/"
        },
        "id": "OHPeIRXa7aEM",
        "outputId": "bdefb640-1e2f-414d-ee2a-5f5d28baf5e7"
      },
      "outputs": [
        {
          "output_type": "stream",
          "name": "stdout",
          "text": [
            "\n",
            "Fetching PubMed articles for: Kenya\n",
            "Using query: (\"air quality\"[tiab] OR \"air pollution\"[tiab] OR \"particulate matter\"[tiab] OR \"PM2.5\"[tiab] OR \"PM10\"[tiab] OR \"outdoor air\"[tiab] OR \"indoor air pollution\"[tiab] OR \"ambient air\"[tiab] OR \"household air pollution\"[tiab] OR \"airborne particles\"[tiab] OR \"atmospheric pollution\"[tiab] OR \"ozone pollution\"[tiab] OR \"NO2\"[tiab] OR \"SO2\"[tiab] OR \"carbon monoxide\"[tiab] OR \"volatile organic compounds\"[tiab] OR \"urban air\"[tiab]) AND (\"health effects\"[tiab] OR \"public health\"[tiab] OR \"respiratory health\"[tiab] OR \"respiratory disease\"[tiab] OR \"asthma\"[tiab] OR \"lung disease\"[tiab] OR \"cardiovascular disease\"[tiab] OR \"environmental health\"[tiab] OR \"mortality\"[tiab] OR \"exposure assessment\"[tiab] OR \"hospital admissions\"[tiab]) AND (\"Kenya\"[tiab] OR \"Nairobi\"[tiab] OR \"Mombasa\"[tiab] OR \"Kisumu\"[tiab]) AND (\"1960/01/01\"[PDAT] : \"2025/12/31\"[PDAT]) AND english[lang]\n",
            "Found 51 records\n"
          ]
        },
        {
          "output_type": "stream",
          "name": "stderr",
          "text": [
            "Downloading Kenya: 100%|██████████| 1/1 [00:01<00:00,  1.12s/it]\n"
          ]
        },
        {
          "output_type": "stream",
          "name": "stdout",
          "text": [
            "\n",
            "Fetching PubMed articles for: South Africa\n",
            "Using query: (\"air quality\"[tiab] OR \"air pollution\"[tiab] OR \"particulate matter\"[tiab] OR \"PM2.5\"[tiab] OR \"PM10\"[tiab] OR \"outdoor air\"[tiab] OR \"indoor air pollution\"[tiab] OR \"ambient air\"[tiab] OR \"household air pollution\"[tiab] OR \"airborne particles\"[tiab] OR \"atmospheric pollution\"[tiab] OR \"ozone pollution\"[tiab] OR \"NO2\"[tiab] OR \"SO2\"[tiab] OR \"carbon monoxide\"[tiab] OR \"volatile organic compounds\"[tiab] OR \"urban air\"[tiab]) AND (\"health effects\"[tiab] OR \"public health\"[tiab] OR \"respiratory health\"[tiab] OR \"respiratory disease\"[tiab] OR \"asthma\"[tiab] OR \"lung disease\"[tiab] OR \"cardiovascular disease\"[tiab] OR \"environmental health\"[tiab] OR \"mortality\"[tiab] OR \"exposure assessment\"[tiab] OR \"hospital admissions\"[tiab]) AND (\"South Africa\"[tiab] OR \"Johannesburg\"[tiab] OR \"Cape Town\"[tiab] OR \"Durban\"[tiab] OR \"Pretoria\"[tiab]) AND (\"1960/01/01\"[PDAT] : \"2025/12/31\"[PDAT]) AND english[lang]\n",
            "Found 138 records\n"
          ]
        },
        {
          "output_type": "stream",
          "name": "stderr",
          "text": [
            "Downloading South Africa: 100%|██████████| 1/1 [00:01<00:00,  1.60s/it]\n"
          ]
        },
        {
          "output_type": "stream",
          "name": "stdout",
          "text": [
            "\n",
            "Fetching PubMed articles for: UK\n",
            "Using query: (\"air quality\"[tiab] OR \"air pollution\"[tiab] OR \"particulate matter\"[tiab] OR \"PM2.5\"[tiab] OR \"PM10\"[tiab] OR \"outdoor air\"[tiab] OR \"indoor air pollution\"[tiab] OR \"ambient air\"[tiab] OR \"household air pollution\"[tiab] OR \"airborne particles\"[tiab] OR \"atmospheric pollution\"[tiab] OR \"ozone pollution\"[tiab] OR \"NO2\"[tiab] OR \"SO2\"[tiab] OR \"carbon monoxide\"[tiab] OR \"volatile organic compounds\"[tiab] OR \"urban air\"[tiab]) AND (\"health effects\"[tiab] OR \"public health\"[tiab] OR \"respiratory health\"[tiab] OR \"respiratory disease\"[tiab] OR \"asthma\"[tiab] OR \"lung disease\"[tiab] OR \"cardiovascular disease\"[tiab] OR \"environmental health\"[tiab] OR \"mortality\"[tiab] OR \"exposure assessment\"[tiab] OR \"hospital admissions\"[tiab]) AND (\"United Kingdom\"[tiab] OR \"UK\"[tiab] OR \"England\"[tiab] OR \"Scotland\"[tiab] OR \"Wales\"[tiab] OR \"London\"[tiab] OR \"Manchester\"[tiab]) AND (\"1960/01/01\"[PDAT] : \"2025/12/31\"[PDAT]) AND english[lang]\n",
            "Found 965 records\n"
          ]
        },
        {
          "output_type": "stream",
          "name": "stderr",
          "text": [
            "Downloading UK: 100%|██████████| 5/5 [00:08<00:00,  1.61s/it]"
          ]
        },
        {
          "output_type": "stream",
          "name": "stdout",
          "text": [
            "✅ PubMed data collection complete! 1113 records saved to 'pubmed_air_quality_health.csv'\n"
          ]
        },
        {
          "output_type": "stream",
          "name": "stderr",
          "text": [
            "\n"
          ]
        }
      ],
      "source": [
        "from Bio import Entrez\n",
        "from tqdm import tqdm\n",
        "import pandas as pd\n",
        "import time\n",
        "import re\n",
        "\n",
        "# --------------------------------------------------------------------------------\n",
        "# 0. Entrez Setup\n",
        "# --------------------------------------------------------------------------------\n",
        "Entrez.email = \"paulinenyakairu.karega@postgrad.manchester.ac.uk\"   # Required by NCBI\n",
        "# Optional: Entrez.api_key = \"YOUR_NCBI_API_KEY\"\n",
        "\n",
        "# --------------------------------------------------------------------------------\n",
        "# 1. Build PubMed Query (STRICT: air AND health AND geography)\n",
        "# --------------------------------------------------------------------------------\n",
        "def build_pubmed_query(country: str) -> str:\n",
        "    air_terms = [\n",
        "        \"air quality\", \"air pollution\", \"particulate matter\", \"PM2.5\", \"PM10\",\n",
        "        \"outdoor air\", \"indoor air pollution\", \"ambient air\", \"household air pollution\",\n",
        "        \"airborne particles\", \"atmospheric pollution\", \"ozone pollution\",\n",
        "        \"NO2\", \"SO2\", \"carbon monoxide\", \"volatile organic compounds\", \"urban air\"\n",
        "    ]\n",
        "\n",
        "    health_terms = [\n",
        "        \"health effects\", \"public health\", \"respiratory health\", \"respiratory disease\",\n",
        "        \"asthma\", \"lung disease\", \"cardiovascular disease\", \"environmental health\",\n",
        "        \"mortality\", \"exposure assessment\", \"hospital admissions\"\n",
        "    ]\n",
        "\n",
        "    geography = {\n",
        "        \"Kenya\": [\"Kenya\", \"Nairobi\", \"Mombasa\", \"Kisumu\"],\n",
        "        \"South Africa\": [\"South Africa\", \"Johannesburg\", \"Cape Town\", \"Durban\", \"Pretoria\"],\n",
        "        \"UK\": [\"United Kingdom\", \"UK\", \"England\", \"Scotland\", \"Wales\", \"London\", \"Manchester\"]\n",
        "    }\n",
        "\n",
        "    geo_terms = geography.get(country, [country])\n",
        "\n",
        "    # STRICT query: must include air AND health AND geo\n",
        "    query = (\n",
        "        \"(\" + \" OR \".join([f'\"{t}\"[tiab]' for t in air_terms]) + \")\"\n",
        "        + \" AND (\" + \" OR \".join([f'\"{h}\"[tiab]' for h in health_terms]) + \")\"\n",
        "        + \" AND (\" + \" OR \".join([f'\"{g}\"[tiab]' for g in geo_terms]) + \")\"\n",
        "        + ' AND (\"1960/01/01\"[PDAT] : \"2025/12/31\"[PDAT])'\n",
        "        + \" AND english[lang]\"\n",
        "    )\n",
        "    return query\n",
        "\n",
        "# --------------------------------------------------------------------------------\n",
        "# 2. Fetch PubMed Studies with Robust Handling\n",
        "# --------------------------------------------------------------------------------\n",
        "def fetch_pubmed_studies(country: str, batch_size: int = 200) -> pd.DataFrame:\n",
        "    print(f\"\\nFetching PubMed articles for: {country}\")\n",
        "    query = build_pubmed_query(country)\n",
        "    print(\"Using query:\", query)\n",
        "\n",
        "    # First, get count\n",
        "    try:\n",
        "        handle = Entrez.esearch(db=\"pubmed\", term=query, retmax=0)\n",
        "        record = Entrez.read(handle)\n",
        "        count = int(record[\"Count\"])\n",
        "    except Exception as e:\n",
        "        print(\"Error in initial search:\", str(e))\n",
        "        return pd.DataFrame()\n",
        "\n",
        "    if count == 0:\n",
        "        print(f\"No results found for {country}\")\n",
        "        return pd.DataFrame()\n",
        "\n",
        "    print(f\"Found {count} records\")\n",
        "\n",
        "    # Fetch in batches\n",
        "    all_records = []\n",
        "    for start in tqdm(range(0, count, batch_size), desc=f\"Downloading {country}\"):\n",
        "        time.sleep(0.3)  # be gentle with the API\n",
        "        retries, max_retries = 0, 3\n",
        "        success = False\n",
        "        while not success and retries < max_retries:\n",
        "            try:\n",
        "                search_handle = Entrez.esearch(\n",
        "                    db=\"pubmed\", term=query, retmax=batch_size, retstart=start\n",
        "                )\n",
        "                search_results = Entrez.read(search_handle)\n",
        "                ids = search_results.get(\"IdList\", [])\n",
        "                if ids:\n",
        "                    summary_handle = Entrez.esummary(db=\"pubmed\", id=\",\".join(ids))\n",
        "                    summaries = Entrez.read(summary_handle)\n",
        "                    for r in summaries:\n",
        "                        # Extract authors\n",
        "                        authors = None\n",
        "                        if \"Authors\" in r and r[\"Authors\"]:\n",
        "                            authors = \"; \".join([a[\"Name\"] for a in r[\"Authors\"] if \"Name\" in a])\n",
        "\n",
        "                        # Extract year\n",
        "                        year = None\n",
        "                        if \"PubDate\" in r:\n",
        "                            m = re.search(r\"\\d{4}\", r[\"PubDate\"])\n",
        "                            if m:\n",
        "                                year = m.group(0)\n",
        "\n",
        "                        all_records.append({\n",
        "                            \"pmid\": r.get(\"Id\"),\n",
        "                            \"title\": r.get(\"Title\"),\n",
        "                            \"authors\": authors,\n",
        "                            \"year\": year,\n",
        "                            \"journal\": r.get(\"Source\"),\n",
        "                            \"doi\": r.get(\"DOI\"),\n",
        "                            \"abstract\": r.get(\"Abstract\"),\n",
        "                            \"source\": \"PubMed\",\n",
        "                            \"country\": country\n",
        "                        })\n",
        "                    success = True\n",
        "            except Exception:\n",
        "                retries += 1\n",
        "                time.sleep(1)\n",
        "\n",
        "    df = pd.DataFrame(all_records)\n",
        "\n",
        "    if not df.empty:\n",
        "        # Clean up\n",
        "        df[\"year\"] = pd.to_numeric(df[\"year\"], errors=\"coerce\")\n",
        "        df.loc[~df[\"doi\"].str.match(r\"^10\\.\\d{4,9}\", na=False), \"doi\"] = None\n",
        "        df = df.dropna(subset=[\"title\", \"year\"])\n",
        "        df = df[(df[\"year\"] >= 1960) & (df[\"year\"] <= 2025)]\n",
        "        df = df.drop_duplicates(subset=[\"doi\"], keep=\"first\")\n",
        "\n",
        "    return df\n",
        "\n",
        "# --------------------------------------------------------------------------------\n",
        "# 3. Run Pipeline for Kenya, South Africa, and UK\n",
        "# --------------------------------------------------------------------------------\n",
        "def run_pubmed_pipeline() -> pd.DataFrame:\n",
        "    kenya = fetch_pubmed_studies(\"Kenya\")\n",
        "    sa = fetch_pubmed_studies(\"South Africa\")\n",
        "    uk = fetch_pubmed_studies(\"UK\")\n",
        "\n",
        "    combined = pd.concat([kenya, sa, uk], ignore_index=True)\n",
        "\n",
        "    for col in combined.select_dtypes(include=\"object\"):\n",
        "        combined[col] = combined[col].str.strip()\n",
        "\n",
        "    combined = combined.sort_values(by=\"year\", ascending=False)\n",
        "    return combined\n",
        "\n",
        "# --------------------------------------------------------------------------------\n",
        "# 4. Execute and Save\n",
        "# --------------------------------------------------------------------------------\n",
        "if __name__ == \"__main__\":\n",
        "    final_data = run_pubmed_pipeline()\n",
        "    final_data.to_csv(\"pubmed_air_quality_health.csv\", index=False)\n",
        "    print(f\"✅ PubMed data collection complete! {len(final_data)} records saved to 'pubmed_air_quality_health.csv'\")\n"
      ]
    },
    {
      "cell_type": "markdown",
      "source": [
        "We obtained 51 articles from Kenya, 138 from South Africa, and 965 from the UK. We combined these with articles we obtained earlier from iteration of an R code and got our desired articles. These were stored in a local folder for filtering and further analysis."
      ],
      "metadata": {
        "id": "ttZ1XqG_LQK8"
      }
    },
    {
      "cell_type": "markdown",
      "source": [
        "**Analysis**\n",
        "\n",
        "Our interest was in articles"
      ],
      "metadata": {
        "id": "DqZYO2yqMnoX"
      }
    },
    {
      "cell_type": "code",
      "source": [
        "##Analysis\n"
      ],
      "metadata": {
        "id": "wt-ihO2mMjJc"
      },
      "execution_count": null,
      "outputs": []
    }
  ]
}